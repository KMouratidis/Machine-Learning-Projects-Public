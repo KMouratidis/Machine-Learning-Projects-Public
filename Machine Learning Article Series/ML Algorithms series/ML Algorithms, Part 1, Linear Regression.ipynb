{
 "cells": [
  {
   "cell_type": "markdown",
   "metadata": {},
   "source": [
    "# Machine Learning\n",
    "\n",
    "In this series of posts we will take a look at some of the most basic Machine Learning algorithms. This is not a math-heavy series; we will focus on the concepts instead. An excellent book for those who want a bit more depth is the widely popular *An Introduction to Statistical Learning, with Application in R* by James, Witten, Hastie and Tibshirani, from the *Springer Texts in Statistics* series. I will try to be as short as possible so I will inevitably omit some details. This series of articles also assumes some basic familiarity with programming."
   ]
  },
  {
   "cell_type": "markdown",
   "metadata": {},
   "source": [
    "## Part 1: Linear Regression\n",
    "\n",
    "We will of course start with linear regression, the most common algorithm which serves as basis (even if only conceptually) for many other more advanced algorithms. But before that let us get into a bit of theory about Machine Learning in general."
   ]
  },
  {
   "cell_type": "markdown",
   "metadata": {},
   "source": [
    "#### Pattern recognition\n",
    "\n",
    "Our goal is to detect a pattern, or in other words to infer a relationship. This relationship is a way to get from point A to point B. Let's think of an example:\n",
    "\n",
    "* 2 apples cost \\$2\n",
    "* 3 apples cost \\$3\n",
    "* 4 apples cost \\$4\n",
    "\n",
    "By now you have probably guessed that by performing a single division we can get the price of 1 apple, which is \\$1\\. That is pattern recognition."
   ]
  },
  {
   "cell_type": "markdown",
   "metadata": {},
   "source": [
    "#### Basic Linear Regression\n",
    "\n",
    "So, how many dollars do you have to pay for 7 apples? 10 apples? X apples? Simply, \\$1 \\* X apples = \\$X\\. Now let's say that the amount of dollars you have to pay takes the name Y. Now the relationship takes the form **Y = 1*X**. That is linear regression. Let's take a step further."
   ]
  },
  {
   "cell_type": "markdown",
   "metadata": {},
   "source": [
    "#### Beers in a bar\n",
    "\n",
    "Let's say you want to go into a bar to drink a few (non-alcohol) beers, but this bar is insanely popular and it charges an entrance fee of \\$8. You're willing to pay that fee because the music is awesome and your friends are already inside. You go to the bar, order a beer, and you pay \\$3. Time goes on, and you order another beer, again \\$3 (it would be weird otherwise, no?). Modelling time! First, we name our variables:\n",
    "\n",
    "* Entrance fee of \\$8, will be **b**\n",
    "* Beer price of \\$3,  **a**\n",
    "* Number of beers drank, **X**\n",
    "* Amount of dollars paid, **Y**\n",
    "\n",
    "We can see that no matter how many beers we drink, the we will always pay the flat entrance fee of \\$8. Then, the rest of the tab depends on our consumption, and since the beer price does not change, we can use our basic linear regression from above, with the multiplier being **a** instead of 1, plus the entrance fee, so Y = 3*X + 8, or in the more general form: \n",
    "\n",
    "\n",
    "    Y = a*X + b\n",
    "\n",
    "That's Linear Regression."
   ]
  },
  {
   "cell_type": "markdown",
   "metadata": {},
   "source": [
    "### More complex data\n",
    "\n",
    "Beer price in the bar might be the same over the course of the night, but what if the beer tax changes in a week? Or the beer makers had a tough season and need to raise the prices? And in the next month the logistics company finds a new and faster route and the price drops again. Now the beer price will not always be the same, it will be \\$3.00 one week and \\$3.04 another, perhaps \\$4.00 in a year or \\$2.60 in another bar. That second bar might charge \\$9.00 for its entrance fee, and a third might not charge entrance. How do we model relationships such as these?\n",
    "\n",
    "We allow for some error, **e**, and our other parameters, **a** and **b** become estimates that are as close to the true as we possibly can, and our relationship becomes: **Y = a*X + b + e**"
   ]
  },
  {
   "cell_type": "markdown",
   "metadata": {},
   "source": [
    "### Performing Linear Regression\n",
    "\n",
    "There are a lot of ways to perform the estimation of parameters we mentioned above the most common being *Ordinary Least Squares* and *Maximum Likelihood Estimation*. We will not go into the specifics here as they require some understanding of math and statistics, but we will show some code, so a very basic familiarity with (Python) programming is required. Model performance and other concepts will be explained as they arise."
   ]
  },
  {
   "cell_type": "markdown",
   "metadata": {},
   "source": [
    "#### First we import our libraries"
   ]
  },
  {
   "cell_type": "code",
   "execution_count": 1,
   "metadata": {},
   "outputs": [],
   "source": [
    "from sklearn.linear_model import LinearRegression # This will evaluate the relationship\n",
    "from sklearn.metrics import r2_score # We need a metric to see how well our model is doing\n",
    "import numpy as np # Import numpy (stands for NUMerical PYthon) to use array, get random values, etc\n",
    "import matplotlib.pyplot as plt # this library is used for plotting\n",
    "\n",
    "# to view our plots in this page, not in a pop-up, use this\n",
    "%matplotlib inline"
   ]
  },
  {
   "cell_type": "markdown",
   "metadata": {},
   "source": [
    "#### Getting some data\n",
    "\n",
    "sklearn provides some datasets that we can use for our example. Here's how to load them. The result is a dictionary, out of which we are interested in 'data' (our X) and 'target' (our Y). feature_names provides the text labels of our X columns, something we can understand. DESCR provides a description of the dataset. Access any element by key, like this: boston_data\\[\"data\"\\]"
   ]
  },
  {
   "cell_type": "code",
   "execution_count": 2,
   "metadata": {},
   "outputs": [
    {
     "data": {
      "text/plain": [
       "dict_keys(['data', 'target', 'feature_names', 'DESCR'])"
      ]
     },
     "execution_count": 2,
     "metadata": {},
     "output_type": "execute_result"
    }
   ],
   "source": [
    "from sklearn.datasets import load_boston\n",
    "\n",
    "# loads the data\n",
    "boston_data = load_boston()\n",
    "\n",
    "# shows the keys\n",
    "boston_data.keys()"
   ]
  },
  {
   "cell_type": "code",
   "execution_count": 3,
   "metadata": {},
   "outputs": [
    {
     "name": "stdout",
     "output_type": "stream",
     "text": [
      "Boston House Prices dataset\n",
      "===========================\n",
      "\n",
      "Notes\n",
      "------\n",
      "Data Set Characteristics:  \n",
      "\n",
      "    :Number of Instances: 506 \n",
      "\n",
      "    :Number of Attributes: 13 numeric/categorical predictive\n",
      "    \n",
      "    :Median Value (attribute 14) is usually the target\n",
      "\n",
      "    :Attribute Information (in order):\n",
      "        - CRIM     per capita crime rate by town\n",
      "        - ZN       proportion of residential land zoned for lots over 25,000 sq.ft.\n",
      "        - INDUS    proportion of non-retail business acres per town\n",
      "        - CHAS     Charles River dummy variable (= 1 if tract bounds river; 0 otherwise)\n",
      "        - NOX      nitric oxides concentration (parts per 10 million)\n",
      "        - RM       average number of rooms per dwelling\n",
      "        - AGE      proportion of owner-occupied units built prior to 1940\n",
      "        - DIS      weighted distances to five Boston employment centres\n",
      "        - RAD      index of accessibility to radial highways\n",
      "        - TAX      full-value property-tax rate per $10,000\n",
      "        - PTRATIO  pupil-teacher ratio by town\n",
      "        - B        1000(Bk - 0.63)^2 where Bk is the proportion of blacks by town\n",
      "        - LSTAT    % lower status of the population\n",
      "        - MEDV     Median value of owner-occupied homes in $1000's\n",
      "\n",
      "    :Missing Attribute Values: None\n",
      "\n",
      "    :Creator: Harrison, D. and Rubinfeld, D.L.\n",
      "\n",
      "This is a copy of UCI ML housing dataset.\n",
      "http://archive.ics.uci.edu/ml/datasets/Housing\n",
      "\n",
      "\n",
      "This dataset was taken from the StatLib library which is maintained at Carnegie Mellon University.\n",
      "\n",
      "The Boston house-price data of Harrison, D. and Rubinfeld, D.L. 'Hedonic\n",
      "prices and the demand for clean air', J. Environ. Economics & Management,\n",
      "vol.5, 81-102, 1978.   Used in Belsley, Kuh & Welsch, 'Regression diagnostics\n",
      "...', Wiley, 1980.   N.B. Various transformations are used in the table on\n",
      "pages 244-261 of the latter.\n",
      "\n",
      "The Boston house-price data has been used in many machine learning papers that address regression\n",
      "problems.   \n",
      "     \n",
      "**References**\n",
      "\n",
      "   - Belsley, Kuh & Welsch, 'Regression diagnostics: Identifying Influential Data and Sources of Collinearity', Wiley, 1980. 244-261.\n",
      "   - Quinlan,R. (1993). Combining Instance-Based and Model-Based Learning. In Proceedings on the Tenth International Conference of Machine Learning, 236-243, University of Massachusetts, Amherst. Morgan Kaufmann.\n",
      "   - many more! (see http://archive.ics.uci.edu/ml/datasets/Housing)\n",
      "\n"
     ]
    }
   ],
   "source": [
    "print(boston_data.DESCR)"
   ]
  },
  {
   "cell_type": "markdown",
   "metadata": {},
   "source": [
    "#### Pandas\n",
    "\n",
    "We can use pandas to get a better view of our data:"
   ]
  },
  {
   "cell_type": "code",
   "execution_count": 4,
   "metadata": {},
   "outputs": [
    {
     "data": {
      "text/html": [
       "<div>\n",
       "<style>\n",
       "    .dataframe thead tr:only-child th {\n",
       "        text-align: right;\n",
       "    }\n",
       "\n",
       "    .dataframe thead th {\n",
       "        text-align: left;\n",
       "    }\n",
       "\n",
       "    .dataframe tbody tr th {\n",
       "        vertical-align: top;\n",
       "    }\n",
       "</style>\n",
       "<table border=\"1\" class=\"dataframe\">\n",
       "  <thead>\n",
       "    <tr style=\"text-align: right;\">\n",
       "      <th></th>\n",
       "      <th>CRIM</th>\n",
       "      <th>ZN</th>\n",
       "      <th>INDUS</th>\n",
       "      <th>CHAS</th>\n",
       "      <th>NOX</th>\n",
       "      <th>RM</th>\n",
       "      <th>AGE</th>\n",
       "      <th>DIS</th>\n",
       "      <th>RAD</th>\n",
       "      <th>TAX</th>\n",
       "      <th>PTRATIO</th>\n",
       "      <th>B</th>\n",
       "      <th>LSTAT</th>\n",
       "    </tr>\n",
       "  </thead>\n",
       "  <tbody>\n",
       "    <tr>\n",
       "      <th>0</th>\n",
       "      <td>0.00632</td>\n",
       "      <td>18.0</td>\n",
       "      <td>2.31</td>\n",
       "      <td>0.0</td>\n",
       "      <td>0.538</td>\n",
       "      <td>6.575</td>\n",
       "      <td>65.2</td>\n",
       "      <td>4.0900</td>\n",
       "      <td>1.0</td>\n",
       "      <td>296.0</td>\n",
       "      <td>15.3</td>\n",
       "      <td>396.90</td>\n",
       "      <td>4.98</td>\n",
       "    </tr>\n",
       "    <tr>\n",
       "      <th>1</th>\n",
       "      <td>0.02731</td>\n",
       "      <td>0.0</td>\n",
       "      <td>7.07</td>\n",
       "      <td>0.0</td>\n",
       "      <td>0.469</td>\n",
       "      <td>6.421</td>\n",
       "      <td>78.9</td>\n",
       "      <td>4.9671</td>\n",
       "      <td>2.0</td>\n",
       "      <td>242.0</td>\n",
       "      <td>17.8</td>\n",
       "      <td>396.90</td>\n",
       "      <td>9.14</td>\n",
       "    </tr>\n",
       "    <tr>\n",
       "      <th>2</th>\n",
       "      <td>0.02729</td>\n",
       "      <td>0.0</td>\n",
       "      <td>7.07</td>\n",
       "      <td>0.0</td>\n",
       "      <td>0.469</td>\n",
       "      <td>7.185</td>\n",
       "      <td>61.1</td>\n",
       "      <td>4.9671</td>\n",
       "      <td>2.0</td>\n",
       "      <td>242.0</td>\n",
       "      <td>17.8</td>\n",
       "      <td>392.83</td>\n",
       "      <td>4.03</td>\n",
       "    </tr>\n",
       "    <tr>\n",
       "      <th>3</th>\n",
       "      <td>0.03237</td>\n",
       "      <td>0.0</td>\n",
       "      <td>2.18</td>\n",
       "      <td>0.0</td>\n",
       "      <td>0.458</td>\n",
       "      <td>6.998</td>\n",
       "      <td>45.8</td>\n",
       "      <td>6.0622</td>\n",
       "      <td>3.0</td>\n",
       "      <td>222.0</td>\n",
       "      <td>18.7</td>\n",
       "      <td>394.63</td>\n",
       "      <td>2.94</td>\n",
       "    </tr>\n",
       "    <tr>\n",
       "      <th>4</th>\n",
       "      <td>0.06905</td>\n",
       "      <td>0.0</td>\n",
       "      <td>2.18</td>\n",
       "      <td>0.0</td>\n",
       "      <td>0.458</td>\n",
       "      <td>7.147</td>\n",
       "      <td>54.2</td>\n",
       "      <td>6.0622</td>\n",
       "      <td>3.0</td>\n",
       "      <td>222.0</td>\n",
       "      <td>18.7</td>\n",
       "      <td>396.90</td>\n",
       "      <td>5.33</td>\n",
       "    </tr>\n",
       "  </tbody>\n",
       "</table>\n",
       "</div>"
      ],
      "text/plain": [
       "      CRIM    ZN  INDUS  CHAS    NOX     RM   AGE     DIS  RAD    TAX  \\\n",
       "0  0.00632  18.0   2.31   0.0  0.538  6.575  65.2  4.0900  1.0  296.0   \n",
       "1  0.02731   0.0   7.07   0.0  0.469  6.421  78.9  4.9671  2.0  242.0   \n",
       "2  0.02729   0.0   7.07   0.0  0.469  7.185  61.1  4.9671  2.0  242.0   \n",
       "3  0.03237   0.0   2.18   0.0  0.458  6.998  45.8  6.0622  3.0  222.0   \n",
       "4  0.06905   0.0   2.18   0.0  0.458  7.147  54.2  6.0622  3.0  222.0   \n",
       "\n",
       "   PTRATIO       B  LSTAT  \n",
       "0     15.3  396.90   4.98  \n",
       "1     17.8  396.90   9.14  \n",
       "2     17.8  392.83   4.03  \n",
       "3     18.7  394.63   2.94  \n",
       "4     18.7  396.90   5.33  "
      ]
     },
     "execution_count": 4,
     "metadata": {},
     "output_type": "execute_result"
    }
   ],
   "source": [
    "import pandas as pd\n",
    "\n",
    "# a DataFrame is just like a Spreadsheet\n",
    "data = pd.DataFrame(data=boston_data[\"data\"], columns=boston_data[\"feature_names\"])\n",
    "\n",
    "# Shows only the first 5 rows\n",
    "data.head()"
   ]
  },
  {
   "cell_type": "markdown",
   "metadata": {},
   "source": [
    "#### Linear Regression with 1 variable\n",
    "\n",
    "First, let's perform Linear Regression with only one variable, as explained above. We will (arbitrarily) choose RM."
   ]
  },
  {
   "cell_type": "code",
   "execution_count": 5,
   "metadata": {},
   "outputs": [],
   "source": [
    "# select only RM, number of rooms per dwelling\n",
    "X = data[\"RM\"]\n",
    "\n",
    "# You can ignore this. This is only needed because sklearn \n",
    "# wants the inputs to have a certain shape: (samples, features)\n",
    "X = X.values.reshape((-1,1))"
   ]
  },
  {
   "cell_type": "code",
   "execution_count": 6,
   "metadata": {},
   "outputs": [
    {
     "data": {
      "text/html": [
       "<div>\n",
       "<style>\n",
       "    .dataframe thead tr:only-child th {\n",
       "        text-align: right;\n",
       "    }\n",
       "\n",
       "    .dataframe thead th {\n",
       "        text-align: left;\n",
       "    }\n",
       "\n",
       "    .dataframe tbody tr th {\n",
       "        vertical-align: top;\n",
       "    }\n",
       "</style>\n",
       "<table border=\"1\" class=\"dataframe\">\n",
       "  <thead>\n",
       "    <tr style=\"text-align: right;\">\n",
       "      <th></th>\n",
       "      <th>Price in $1000s</th>\n",
       "    </tr>\n",
       "  </thead>\n",
       "  <tbody>\n",
       "    <tr>\n",
       "      <th>0</th>\n",
       "      <td>24.0</td>\n",
       "    </tr>\n",
       "    <tr>\n",
       "      <th>1</th>\n",
       "      <td>21.6</td>\n",
       "    </tr>\n",
       "    <tr>\n",
       "      <th>2</th>\n",
       "      <td>34.7</td>\n",
       "    </tr>\n",
       "    <tr>\n",
       "      <th>3</th>\n",
       "      <td>33.4</td>\n",
       "    </tr>\n",
       "    <tr>\n",
       "      <th>4</th>\n",
       "      <td>36.2</td>\n",
       "    </tr>\n",
       "  </tbody>\n",
       "</table>\n",
       "</div>"
      ],
      "text/plain": [
       "   Price in $1000s\n",
       "0             24.0\n",
       "1             21.6\n",
       "2             34.7\n",
       "3             33.4\n",
       "4             36.2"
      ]
     },
     "execution_count": 6,
     "metadata": {},
     "output_type": "execute_result"
    }
   ],
   "source": [
    "# This shows the \n",
    "Y = pd.DataFrame(boston_data[\"target\"], columns=[\"Price in $1000s\"])\n",
    "Y.head()"
   ]
  },
  {
   "cell_type": "markdown",
   "metadata": {},
   "source": [
    "#### Model definition\n",
    "\n",
    "We create a LinearRegression instance and call it model. Then we fit our data to the model, all in two simple lines:"
   ]
  },
  {
   "cell_type": "code",
   "execution_count": 7,
   "metadata": {},
   "outputs": [
    {
     "data": {
      "text/plain": [
       "LinearRegression(copy_X=True, fit_intercept=True, n_jobs=1, normalize=False)"
      ]
     },
     "execution_count": 7,
     "metadata": {},
     "output_type": "execute_result"
    }
   ],
   "source": [
    "model = LinearRegression()\n",
    "\n",
    "model.fit(X, Y)"
   ]
  },
  {
   "cell_type": "markdown",
   "metadata": {},
   "source": [
    "If you remember the beer example, **a** tells us how much each room adds to the price (on average), while **b** tells us the lowest price we would have to pay (although a house with no rooms doesn't make much sense). Here is how to get these parameters, and remember the model form: Y = a*X + b"
   ]
  },
  {
   "cell_type": "code",
   "execution_count": 8,
   "metadata": {},
   "outputs": [],
   "source": [
    "a = model.coef_\n",
    "b = model.intercept_"
   ]
  },
  {
   "cell_type": "markdown",
   "metadata": {},
   "source": [
    "#### Plotting the data"
   ]
  },
  {
   "cell_type": "code",
   "execution_count": 9,
   "metadata": {},
   "outputs": [
    {
     "data": {
      "image/png": "[encoded data removed]",
      "text/plain": [
       "<Figure size 720x504 with 1 Axes>"
      ]
     },
     "metadata": {},
     "output_type": "display_data"
    }
   ],
   "source": [
    "# create a figure to plot on (only necessary so we can define the size of it)\n",
    "plt.figure(figsize=(10,7))\n",
    "\n",
    "# a scatterplot creates a point for every (x,y) coordinate\n",
    "plt.scatter(X,Y, label=\"Data points\")\n",
    "\n",
    "# to visualize our line, we need some linearly spaced data\n",
    "# we can use numpy to get those, with linspace\n",
    "# we pass as parameters the start, stop, and number of points\n",
    "linearly_spaced_data_X = np.linspace(4, 9, 20)\n",
    "\n",
    "# find the predictions of our model, by applying the coefficients\n",
    "# this is nothing more than Y = a*X + b\n",
    "linearly_spaced_data_Y = a * linearly_spaced_data_X + b\n",
    "\n",
    "# plot this line (we need to reshape the Y's to work with matplotlib)\n",
    "plt.plot(linearly_spaced_data_X, linearly_spaced_data_Y.reshape((-1,)),\n",
    "         color='red', lw=3, label=\"Linear Regression model\")\n",
    "\n",
    "# Some plotting parameters to make the plot look nicer\n",
    "plt.xlabel(\"Number of rooms\")\n",
    "plt.ylabel(\"Average House Price\")\n",
    "plt.legend();"
   ]
  },
  {
   "cell_type": "markdown",
   "metadata": {},
   "source": [
    "#### Model performance\n",
    "\n",
    "We can see that the more rooms a house has, the higher its price (on average), which is to be expected. We can also see our model (the red line) and the data (blue dots), and it seems that our models does a pretty good job. How can we quantify that? We use R², a metric that tells us \"what percentage of Y is explained by the model\". We can do it by using the `score` method of the model on the data:"
   ]
  },
  {
   "cell_type": "code",
   "execution_count": 10,
   "metadata": {},
   "outputs": [
    {
     "name": "stdout",
     "output_type": "stream",
     "text": [
      "The model explains 48.35% of the average price.\n"
     ]
    }
   ],
   "source": [
    "# some fancy printing, you can skip the specifics\n",
    "print(\"The model explains {:.2f}% of the average price.\".format(model.score(X,Y)*100))"
   ]
  },
  {
   "cell_type": "markdown",
   "metadata": {},
   "source": [
    "It seems our model did not perform so well after all. We can do a lot to improve it, using different algorithms or more variables. We will choose the second, also called Multiple Linear Regression"
   ]
  },
  {
   "cell_type": "markdown",
   "metadata": {},
   "source": [
    "### Multiple Linear Regression\n",
    "\n",
    "We can perform Linear Regression with as many variables as we like. A new model form would possibly look like this (if we named our variables X,Z,V etc - our parameters a,b,c,k, etc):\n",
    "\n",
    "    Y = a*X + b*Z + c*V +  ... + k\n",
    "    \n",
    "Since the alphabet of any language is limited, we usually denote the variables with X1, X2, etc, and the coefficients with a1, a2, etc. The intercept (the **b** in our initial model) is usually denoted as a0 and appears first. Our model becomes, for k variables:\n",
    "\n",
    "    Y = a0 + a1*X1 + a2*X2 + a3*X3 + ... ak*Xk\n",
    "    \n",
    "Let's see how that works in code:"
   ]
  },
  {
   "cell_type": "code",
   "execution_count": 11,
   "metadata": {},
   "outputs": [],
   "source": [
    "# this time we will use all of our variable\n",
    "X = data"
   ]
  },
  {
   "cell_type": "code",
   "execution_count": 12,
   "metadata": {},
   "outputs": [
    {
     "data": {
      "text/plain": [
       "LinearRegression(copy_X=True, fit_intercept=True, n_jobs=1, normalize=False)"
      ]
     },
     "execution_count": 12,
     "metadata": {},
     "output_type": "execute_result"
    }
   ],
   "source": [
    "# define a new model\n",
    "model2 = LinearRegression()\n",
    "\n",
    "# fit it with all the data\n",
    "# did you notice we don't have to perform all those weird reshapes?\n",
    "model2.fit(X,Y)"
   ]
  },
  {
   "cell_type": "markdown",
   "metadata": {},
   "source": [
    "#### Scoring\n",
    "\n",
    "Each variable is a dimension so visualizing 13 dimensions is a little tough. We can however check R²!"
   ]
  },
  {
   "cell_type": "code",
   "execution_count": 13,
   "metadata": {},
   "outputs": [
    {
     "name": "stdout",
     "output_type": "stream",
     "text": [
      "The Multiple Linear Regression model explains 74.06% of the average price.\n"
     ]
    }
   ],
   "source": [
    "print(\"The Multiple Linear Regression model explains {:.2f}% of the average price.\".format(model2.score(X,Y)*100))"
   ]
  },
  {
   "cell_type": "markdown",
   "metadata": {},
   "source": [
    "Quite a big improvement! We can continue to refine our model adding more variables (as a new variable we could take the square of an old variable, and we get what is called a *Polynomial Regression*), but we leave that to the reader. We will continue with another algorithm in the next article."
   ]
  }
 ],
 "metadata": {
  "kernelspec": {
   "display_name": "Python 3",
   "language": "python",
   "name": "python3"
  },
  "language_info": {
   "codemirror_mode": {
    "name": "ipython",
    "version": 3
   },
   "file_extension": ".py",
   "mimetype": "text/x-python",
   "name": "python",
   "nbconvert_exporter": "python",
   "pygments_lexer": "ipython3",
   "version": "3.6.3"
  }
 },
 "nbformat": 4,
 "nbformat_minor": 2
}
